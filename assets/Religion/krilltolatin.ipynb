{
 "cells": [
  {
   "cell_type": "code",
   "execution_count": 26,
   "metadata": {},
   "outputs": [
    {
     "name": "stdout",
     "output_type": "stream",
     "text": [
      "{'id': 1, 'sura': 1, 'aya': 1, 'translation': '1. Mehribon va rahmli Аlloh nomi bilan (boshlayman).'}\n"
     ]
    }
   ],
   "source": [
    "import json, codecs\n",
    "myDictLowercase = {'а':'a', 'б':'b', 'в':'v', 'г':'g', 'д':'d', 'е':'e', 'ё':'yo', 'ж':'j', 'з':'z', 'и':'i', 'й':'y', 'к':'k', 'л':'l', 'м':'m', 'н':'n', \n",
    "        'о':'o', 'п':'p', 'р':'r', 'с':'s', 'т':'t', 'у':'u', 'ф':'f', 'х':'x', 'ц':'s', 'ч':'ch', 'ш':'sh', 'щ':'sh', 'ъ':'`', 'ы':'i', 'ь':'`', \n",
    "        'э':'e', 'ю':'yu', 'я':'ya', 'ў':'o`', 'ғ':'g`', 'қ':'q', 'ҳ':'h', 'е':'e'}\n",
    "myDictUppercase = {'A':'A', 'Б':'B', 'В':'V', 'Г':'G', 'Д':'D', 'Е':'E', 'Ё':'Yo', 'Ж':'J', 'З':'Z', 'И':'I', 'Й':'Y', 'К':'K', 'Л':'L', 'М':'M', 'Н':'N',\n",
    "        'О':'O', 'П':'P', 'Р':'R', 'С':'S', 'Т':'T', 'У':'U', 'Ф':'F', 'X':'X', 'Ц':'S', 'Ч':'Ch', 'Ш':'Sh', 'Щ':'Sh', 'Ъ':'`', 'Ы':'i', 'Ь':'`',\n",
    "        'Э':'E', 'Ю':'Yu', 'Я':'Ya', 'Ў':'O`', 'Ғ':'G`', 'Қ':'Q', 'Ҳ':'H', 'E':'E'}\n",
    "\n",
    "def convertToLatin(input):\n",
    "        newSet = []\n",
    "        for ch in input:\n",
    "                if ch in myDictLowercase:\n",
    "                        #print(myDictLowercase[ch])\n",
    "                        newSet.append(myDictLowercase[ch])\n",
    "                elif ch in myDictUppercase:\n",
    "                        #print(myDictUppercase[ch])\n",
    "                        newSet.append(myDictUppercase[ch])\n",
    "                else:\n",
    "                        newSet.append(ch)\n",
    "\n",
    "        return ''.join(newSet)\n",
    "\n",
    "file = open(\"assets\\\\Knowledge Base\\\\Quran.json\", 'rb')# or utf-8\n",
    "newFile = open(\"assets\\\\Knowledge Base\\\\Quran-latin.json\", \"w\")\n",
    "data = json.load(file)\n",
    "newData = []\n",
    "\n",
    "for a in range(len(data)):\n",
    "        data[a]['translation'] = convertToLatin(data[a]['translation'])\n",
    "\n",
    "json.dump(data, newFile)\n",
    "file.close()\n",
    "newFile.close()"
   ]
  }
 ],
 "metadata": {
  "kernelspec": {
   "display_name": "Python 3.10.7 ('Sayfer': venv)",
   "language": "python",
   "name": "python3"
  },
  "language_info": {
   "codemirror_mode": {
    "name": "ipython",
    "version": 3
   },
   "file_extension": ".py",
   "mimetype": "text/x-python",
   "name": "python",
   "nbconvert_exporter": "python",
   "pygments_lexer": "ipython3",
   "version": "3.10.7"
  },
  "orig_nbformat": 4,
  "vscode": {
   "interpreter": {
    "hash": "da552bba4514dbda8b806e77aa7f59e859bd648f12ec70fc8295fb5ecb1b91b3"
   }
  }
 },
 "nbformat": 4,
 "nbformat_minor": 2
}
